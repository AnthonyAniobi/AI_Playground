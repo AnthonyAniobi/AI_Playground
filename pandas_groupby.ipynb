{
 "cells": [
  {
   "cell_type": "code",
   "execution_count": 1,
   "id": "8180905d",
   "metadata": {},
   "outputs": [],
   "source": [
    "import numpy as np\n",
    "import pandas as pd"
   ]
  },
  {
   "cell_type": "code",
   "execution_count": 2,
   "id": "3a690876",
   "metadata": {},
   "outputs": [],
   "source": [
    "df = pd.read_csv('Universities.csv')"
   ]
  },
  {
   "cell_type": "code",
   "execution_count": 3,
   "id": "517da586",
   "metadata": {},
   "outputs": [
    {
     "data": {
      "text/html": [
       "<div>\n",
       "<style scoped>\n",
       "    .dataframe tbody tr th:only-of-type {\n",
       "        vertical-align: middle;\n",
       "    }\n",
       "\n",
       "    .dataframe tbody tr th {\n",
       "        vertical-align: top;\n",
       "    }\n",
       "\n",
       "    .dataframe thead th {\n",
       "        text-align: right;\n",
       "    }\n",
       "</style>\n",
       "<table border=\"1\" class=\"dataframe\">\n",
       "  <thead>\n",
       "    <tr style=\"text-align: right;\">\n",
       "      <th></th>\n",
       "      <th>Sector</th>\n",
       "      <th>University</th>\n",
       "      <th>Year</th>\n",
       "      <th>Completions</th>\n",
       "      <th>Geography</th>\n",
       "    </tr>\n",
       "  </thead>\n",
       "  <tbody>\n",
       "    <tr>\n",
       "      <th>0</th>\n",
       "      <td>Private for-profit, 2-year</td>\n",
       "      <td>Pima Medical Institute-Las Vegas</td>\n",
       "      <td>2016</td>\n",
       "      <td>591</td>\n",
       "      <td>Nevada</td>\n",
       "    </tr>\n",
       "    <tr>\n",
       "      <th>1</th>\n",
       "      <td>Private for-profit, less-than 2-year</td>\n",
       "      <td>Healthcare Preparatory Institute</td>\n",
       "      <td>2016</td>\n",
       "      <td>28</td>\n",
       "      <td>Nevada</td>\n",
       "    </tr>\n",
       "    <tr>\n",
       "      <th>2</th>\n",
       "      <td>Private for-profit, less-than 2-year</td>\n",
       "      <td>Milan Institute-Las Vegas</td>\n",
       "      <td>2016</td>\n",
       "      <td>408</td>\n",
       "      <td>Nevada</td>\n",
       "    </tr>\n",
       "    <tr>\n",
       "      <th>3</th>\n",
       "      <td>Private for-profit, less-than 2-year</td>\n",
       "      <td>Utah College of Massage Therapy-Vegas</td>\n",
       "      <td>2016</td>\n",
       "      <td>240</td>\n",
       "      <td>Nevada</td>\n",
       "    </tr>\n",
       "    <tr>\n",
       "      <th>4</th>\n",
       "      <td>Public, 4-year or above</td>\n",
       "      <td>Western Nevada College</td>\n",
       "      <td>2016</td>\n",
       "      <td>960</td>\n",
       "      <td>Nevada</td>\n",
       "    </tr>\n",
       "  </tbody>\n",
       "</table>\n",
       "</div>"
      ],
      "text/plain": [
       "                                 Sector  \\\n",
       "0            Private for-profit, 2-year   \n",
       "1  Private for-profit, less-than 2-year   \n",
       "2  Private for-profit, less-than 2-year   \n",
       "3  Private for-profit, less-than 2-year   \n",
       "4               Public, 4-year or above   \n",
       "\n",
       "                              University  Year  Completions Geography  \n",
       "0       Pima Medical Institute-Las Vegas  2016          591    Nevada  \n",
       "1       Healthcare Preparatory Institute  2016           28    Nevada  \n",
       "2              Milan Institute-Las Vegas  2016          408    Nevada  \n",
       "3  Utah College of Massage Therapy-Vegas  2016          240    Nevada  \n",
       "4                 Western Nevada College  2016          960    Nevada  "
      ]
     },
     "execution_count": 3,
     "metadata": {},
     "output_type": "execute_result"
    }
   ],
   "source": [
    "df.head()"
   ]
  },
  {
   "cell_type": "code",
   "execution_count": 6,
   "id": "dcfe3ccd",
   "metadata": {},
   "outputs": [
    {
     "name": "stderr",
     "output_type": "stream",
     "text": [
      "/var/folders/_l/yz016nqs02vg91y16vfwtcc00000gn/T/ipykernel_48336/1112703792.py:1: FutureWarning: The default value of numeric_only in DataFrameGroupBy.mean is deprecated. In a future version, numeric_only will default to False. Either specify numeric_only or select only columns which should be valid for the function.\n",
      "  df.groupby('Year').mean()\n"
     ]
    },
    {
     "data": {
      "text/html": [
       "<div>\n",
       "<style scoped>\n",
       "    .dataframe tbody tr th:only-of-type {\n",
       "        vertical-align: middle;\n",
       "    }\n",
       "\n",
       "    .dataframe tbody tr th {\n",
       "        vertical-align: top;\n",
       "    }\n",
       "\n",
       "    .dataframe thead th {\n",
       "        text-align: right;\n",
       "    }\n",
       "</style>\n",
       "<table border=\"1\" class=\"dataframe\">\n",
       "  <thead>\n",
       "    <tr style=\"text-align: right;\">\n",
       "      <th></th>\n",
       "      <th>Completions</th>\n",
       "    </tr>\n",
       "    <tr>\n",
       "      <th>Year</th>\n",
       "      <th></th>\n",
       "    </tr>\n",
       "  </thead>\n",
       "  <tbody>\n",
       "    <tr>\n",
       "      <th>2012</th>\n",
       "      <td>535.078947</td>\n",
       "    </tr>\n",
       "    <tr>\n",
       "      <th>2013</th>\n",
       "      <td>526.150000</td>\n",
       "    </tr>\n",
       "    <tr>\n",
       "      <th>2014</th>\n",
       "      <td>588.809524</td>\n",
       "    </tr>\n",
       "    <tr>\n",
       "      <th>2015</th>\n",
       "      <td>597.250000</td>\n",
       "    </tr>\n",
       "    <tr>\n",
       "      <th>2016</th>\n",
       "      <td>609.860465</td>\n",
       "    </tr>\n",
       "  </tbody>\n",
       "</table>\n",
       "</div>"
      ],
      "text/plain": [
       "      Completions\n",
       "Year             \n",
       "2012   535.078947\n",
       "2013   526.150000\n",
       "2014   588.809524\n",
       "2015   597.250000\n",
       "2016   609.860465"
      ]
     },
     "execution_count": 6,
     "metadata": {},
     "output_type": "execute_result"
    }
   ],
   "source": [
    "df.groupby('Year').mean()"
   ]
  },
  {
   "cell_type": "code",
   "execution_count": 8,
   "id": "e8cb7913",
   "metadata": {},
   "outputs": [
    {
     "data": {
      "text/plain": [
       "Year  Sector                                 \n",
       "2012  Private for-profit, 2-year                  3072\n",
       "      Private for-profit, 4-year or above          632\n",
       "      Private for-profit, less-than 2-year        1327\n",
       "      Private not-for-profit, 2-year               665\n",
       "      Private not-for-profit, 4-year or above     1059\n",
       "      Public, 2-year                              1170\n",
       "      Public, 4-year or above                    12408\n",
       "2013  Private for-profit, 2-year                  3053\n",
       "      Private for-profit, 4-year or above          775\n",
       "      Private for-profit, less-than 2-year        1281\n",
       "      Private not-for-profit, 2-year               471\n",
       "      Private not-for-profit, 4-year or above     1016\n",
       "      Public, 2-year                              1633\n",
       "      Public, 4-year or above                    12817\n",
       "2014  Private for-profit, 2-year                  2957\n",
       "      Private for-profit, 4-year or above         1506\n",
       "      Private for-profit, less-than 2-year        1328\n",
       "      Private not-for-profit, 2-year               449\n",
       "      Private not-for-profit, 4-year or above     1042\n",
       "      Public, 2-year                              2286\n",
       "      Public, 4-year or above                    15162\n",
       "2015  Private for-profit, 2-year                  3280\n",
       "      Private for-profit, 4-year or above         1306\n",
       "      Private for-profit, less-than 2-year        1629\n",
       "      Private not-for-profit, 2-year               425\n",
       "      Private not-for-profit, 4-year or above     1228\n",
       "      Public, 2-year                              2355\n",
       "      Public, 4-year or above                    16056\n",
       "2016  Private for-profit, 2-year                  3286\n",
       "      Private for-profit, 4-year or above          748\n",
       "      Private for-profit, less-than 2-year        1552\n",
       "      Private not-for-profit, 2-year               322\n",
       "      Private not-for-profit, 4-year or above     1208\n",
       "      Public, 2-year                              2431\n",
       "      Public, 4-year or above                    16677\n",
       "Name: Completions, dtype: int64"
      ]
     },
     "execution_count": 8,
     "metadata": {},
     "output_type": "execute_result"
    }
   ],
   "source": [
    "df.groupby(['Year', 'Sector'])['Completions'].sum()"
   ]
  },
  {
   "cell_type": "code",
   "execution_count": null,
   "id": "533b7fe2",
   "metadata": {},
   "outputs": [],
   "source": []
  }
 ],
 "metadata": {
  "kernelspec": {
   "display_name": "Python 3 (ipykernel)",
   "language": "python",
   "name": "python3"
  },
  "language_info": {
   "codemirror_mode": {
    "name": "ipython",
    "version": 3
   },
   "file_extension": ".py",
   "mimetype": "text/x-python",
   "name": "python",
   "nbconvert_exporter": "python",
   "pygments_lexer": "ipython3",
   "version": "3.10.9"
  }
 },
 "nbformat": 4,
 "nbformat_minor": 5
}
