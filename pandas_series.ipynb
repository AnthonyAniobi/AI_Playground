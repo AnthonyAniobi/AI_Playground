{
 "cells": [
  {
   "cell_type": "code",
   "execution_count": 1,
   "id": "6a029977",
   "metadata": {},
   "outputs": [],
   "source": [
    "import numpy as np\n",
    "import pandas as pd"
   ]
  },
  {
   "cell_type": "code",
   "execution_count": 2,
   "id": "bc0c9e53",
   "metadata": {},
   "outputs": [],
   "source": [
    "labels = ['a', 'b', 'c']\n",
    "\n",
    "mylist = [10, 20, 30]\n",
    "\n",
    "arr = np.array([10, 20, 30])\n",
    "\n",
    "d = {'a': 10, 'b': 20, 'c': 30}"
   ]
  },
  {
   "cell_type": "code",
   "execution_count": 5,
   "id": "4db9043b",
   "metadata": {},
   "outputs": [
    {
     "data": {
      "text/plain": [
       "a    10\n",
       "b    20\n",
       "c    30\n",
       "dtype: int64"
      ]
     },
     "execution_count": 5,
     "metadata": {},
     "output_type": "execute_result"
    }
   ],
   "source": [
    "pd.Series(data=mylist, index=labels)"
   ]
  },
  {
   "cell_type": "code",
   "execution_count": 6,
   "id": "aa57b04c",
   "metadata": {},
   "outputs": [
    {
     "data": {
      "text/plain": [
       "a    10\n",
       "b    20\n",
       "c    30\n",
       "dtype: int64"
      ]
     },
     "execution_count": 6,
     "metadata": {},
     "output_type": "execute_result"
    }
   ],
   "source": [
    "pd.Series(d)"
   ]
  },
  {
   "cell_type": "code",
   "execution_count": 8,
   "id": "d4dde168",
   "metadata": {},
   "outputs": [],
   "source": [
    "salesQ1 = pd.Series([25, 30, 40, 90], ['USA', 'Canada', 'Nigeria', 'China'])"
   ]
  },
  {
   "cell_type": "code",
   "execution_count": 9,
   "id": "2b479295",
   "metadata": {},
   "outputs": [
    {
     "data": {
      "text/plain": [
       "USA        25\n",
       "Canada     30\n",
       "Nigeria    40\n",
       "China      90\n",
       "dtype: int64"
      ]
     },
     "execution_count": 9,
     "metadata": {},
     "output_type": "execute_result"
    }
   ],
   "source": [
    "salesQ1"
   ]
  },
  {
   "cell_type": "code",
   "execution_count": 10,
   "id": "501b2f69",
   "metadata": {},
   "outputs": [],
   "source": [
    "salesQ2 = pd.Series([26, 32, 50, 60], ['USA', 'Canada', 'Nigeria', 'Japan'])"
   ]
  },
  {
   "cell_type": "code",
   "execution_count": 11,
   "id": "bc557030",
   "metadata": {},
   "outputs": [
    {
     "data": {
      "text/plain": [
       "USA        26\n",
       "Canada     32\n",
       "Nigeria    50\n",
       "Japan      60\n",
       "dtype: int64"
      ]
     },
     "execution_count": 11,
     "metadata": {},
     "output_type": "execute_result"
    }
   ],
   "source": [
    "salesQ2"
   ]
  },
  {
   "cell_type": "code",
   "execution_count": 13,
   "id": "97e27b33",
   "metadata": {},
   "outputs": [
    {
     "data": {
      "text/plain": [
       "60"
      ]
     },
     "execution_count": 13,
     "metadata": {},
     "output_type": "execute_result"
    }
   ],
   "source": [
    "salesQ2['Japan']"
   ]
  },
  {
   "cell_type": "code",
   "execution_count": 14,
   "id": "5d2baeb4",
   "metadata": {},
   "outputs": [
    {
     "data": {
      "text/plain": [
       "50"
      ]
     },
     "execution_count": 14,
     "metadata": {},
     "output_type": "execute_result"
    }
   ],
   "source": [
    "salesQ2[2]"
   ]
  },
  {
   "cell_type": "code",
   "execution_count": 15,
   "id": "9321189a",
   "metadata": {},
   "outputs": [
    {
     "data": {
      "text/plain": [
       "Canada     62.0\n",
       "China       NaN\n",
       "Japan       NaN\n",
       "Nigeria    90.0\n",
       "USA        51.0\n",
       "dtype: float64"
      ]
     },
     "execution_count": 15,
     "metadata": {},
     "output_type": "execute_result"
    }
   ],
   "source": [
    "salesQ1 + salesQ2"
   ]
  },
  {
   "cell_type": "code",
   "execution_count": null,
   "id": "57d7cbf6",
   "metadata": {},
   "outputs": [],
   "source": []
  }
 ],
 "metadata": {
  "kernelspec": {
   "display_name": "Python 3 (ipykernel)",
   "language": "python",
   "name": "python3"
  },
  "language_info": {
   "codemirror_mode": {
    "name": "ipython",
    "version": 3
   },
   "file_extension": ".py",
   "mimetype": "text/x-python",
   "name": "python",
   "nbconvert_exporter": "python",
   "pygments_lexer": "ipython3",
   "version": "3.10.9"
  }
 },
 "nbformat": 4,
 "nbformat_minor": 5
}
